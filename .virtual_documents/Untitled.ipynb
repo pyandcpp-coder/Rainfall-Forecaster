import pandas as pd
import numpy as np
data = pd.read_csv('data.csv')
data


data.info()


data.describe()


data.isnull().sum()


data2 = pd.read_csv('data2.csv')
data2


data2.info()



